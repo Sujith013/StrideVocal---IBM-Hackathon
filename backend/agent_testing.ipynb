{
 "cells": [
  {
   "cell_type": "code",
   "execution_count": null,
   "id": "e427d56e",
   "metadata": {},
   "outputs": [],
   "source": [
    "!pip install requests"
   ]
  },
  {
   "cell_type": "code",
   "execution_count": 1,
   "id": "9ca437ea",
   "metadata": {},
   "outputs": [],
   "source": [
    "import requests\n",
    "import re\n",
    "import json\n",
    "import os"
   ]
  },
  {
   "cell_type": "code",
   "execution_count": null,
   "id": "95da7425",
   "metadata": {},
   "outputs": [],
   "source": [
    "IBM_WATSON_API_KEY = \"\"\n",
    "token_response = requests.post('https://iam.cloud.ibm.com/identity/token', data={\"apikey\": IBM_WATSON_API_KEY, \"grant_type\": 'urn:ibm:params:oauth:grant-type:apikey'})\n",
    "mltoken = token_response.json()[\"access_token\"]"
   ]
  },
  {
   "cell_type": "code",
   "execution_count": 65,
   "id": "01774e13",
   "metadata": {},
   "outputs": [],
   "source": [
    "message = \"give me the distance and route to go to sgw campus of concordia university from guy concordia campus\"\n",
    "\n",
    "payload = {\"messages\":[{\"content\":message,\"role\":\"assistant\"}]}\n",
    "response = requests.post('https://us-south.ml.cloud.ibm.com/ml/v4/deployments/77d905a0-35f0-4316-ab91-205f6049213d/ai_service_stream?version=2021-05-01', json=payload,\n",
    "headers={'Authorization': 'Bearer ' + mltoken,'Content-type':'application/json'})"
   ]
  },
  {
   "cell_type": "code",
   "execution_count": 66,
   "id": "f830cd6d",
   "metadata": {},
   "outputs": [
    {
     "name": "stdout",
     "output_type": "stream",
     "text": [
      "No results foundNo results foundNo results foundNo results foundNo results foundNo results foundNo results foundNo results foundNo results foundNo results foundNo results foundNo results foundNo results found\n"
     ]
    }
   ],
   "source": [
    "full_text = \"\"\n",
    "\n",
    "for line in response.iter_lines():\n",
    "    if line:\n",
    "        decoded_line = line.decode(\"utf-8\")\n",
    "        if decoded_line.startswith(\"data: \"):\n",
    "            try:\n",
    "                data = json.loads(decoded_line[len(\"data: \"):])\n",
    "                delta = data.get(\"choices\", [{}])[0].get(\"delta\", {})\n",
    "                content = delta.get(\"content\")\n",
    "                if content:\n",
    "                    full_text += content\n",
    "            except json.JSONDecodeError:\n",
    "                continue\n",
    "        \n",
    "match = re.search(r\"(\\[.*?\\])\\s*(.*)\", full_text, re.DOTALL)\n",
    "\n",
    "if match:\n",
    "    json_part = match.group(1)\n",
    "    text_part = match.group(2).strip()\n",
    "\n",
    "print(full_text)"
   ]
  },
  {
   "cell_type": "code",
   "execution_count": null,
   "id": "4a889a04",
   "metadata": {},
   "outputs": [],
   "source": [
    "def find_place(place_location_query):\n",
    "  API_KEY = \"\"\n",
    "  url = \"https://maps.googleapis.com/maps/api/place/textsearch/json\"\n",
    "  \n",
    "  params = {\n",
    "        \"query\": place_location_query,\n",
    "        \"key\": API_KEY\n",
    "    }\n",
    "    \n",
    "  response = requests.get(url, params=params).json()\n",
    "  results = response.get(\"results\", [])\n",
    "  \n",
    "  if not results:\n",
    "      return \"No results found\"\n",
    "\n",
    "  return {\n",
    "        \"places\": [{\n",
    "            \"name\": place[\"name\"],\n",
    "            \"address\": place[\"formatted_address\"]\n",
    "        } for place in results]\n",
    "    }"
   ]
  },
  {
   "cell_type": "code",
   "execution_count": null,
   "id": "d61d7033",
   "metadata": {},
   "outputs": [],
   "source": [
    "def get_distance(origin, destination, mode=\"driving\"):\n",
    "    API_KEY = \"\"\n",
    "    url = f\"https://maps.googleapis.com/maps/api/distancematrix/json?origins={origin}&destinations={destination}&mode={mode}&key={API_KEY}\"\n",
    "  \n",
    "    response = requests.get(url).json()\n",
    "    return response"
   ]
  },
  {
   "cell_type": "code",
   "execution_count": null,
   "id": "cb0ed740",
   "metadata": {},
   "outputs": [
    {
     "name": "stdout",
     "output_type": "stream",
     "text": [
      "{'summary': 'Rue Saint-Jacques', 'distance': '8.5 km', 'duration': '16 mins', 'steps': ['Head <b>northeast</b> on <b>Rue Sherbrooke O</b> toward <b>Av. Belmore</b>', 'Turn <b>right</b> onto <b>Rte 138 O</b>', 'Turn <b>left</b> onto <b>Rue Saint-Jacques</b> (signs for <b>A. 720 E</b>)', 'Sharp <b>right</b> onto <b>Rue Pullman</b>/<wbr/><b>Bd Tanneries</b>', 'Turn <b>left</b> to merge onto <b>QC-136</b>', 'Take exit <b>3</b> toward <b>Montréal</b>/<wbr/><b>Centre-Ville</b>/<wbr/><b>Rue Guy</b>', 'Turn <b>right</b> onto <b>Boul. René-Lévesque O</b> (signs for <b>Rue city</b>/<wbr/><b>Montréal</b>/<wbr/><b>Centre Ville</b>)', 'Turn <b>left</b> onto <b>Rue Guy</b>', 'Turn <b>right</b> onto <b>Rue Sainte-Catherine O</b><div style=\"font-size:0.9em\">Destination will be on the right</div>']}\n"
     ]
    }
   ],
   "source": [
    "import requests\n",
    "import html\n",
    "\n",
    "def get_directions(origin, destination, mode=\"driving\"):\n",
    "    GOOGLE_MAPS_API_KEY = \"\"\n",
    "    \n",
    "    url = (\n",
    "        f\"https://maps.googleapis.com/maps/api/directions/json\"\n",
    "        f\"?origin={origin}&destination={destination}&mode={mode}&key={GOOGLE_MAPS_API_KEY}\"\n",
    "    )\n",
    "\n",
    "    response = requests.get(url).json()\n",
    "\n",
    "    if response[\"status\"] != \"OK\":\n",
    "        return {\"error\": response.get(\"error_message\", \"Failed to fetch directions\")}\n",
    "\n",
    "    route = response[\"routes\"][0]\n",
    "    leg = route[\"legs\"][0]\n",
    "    steps = leg[\"steps\"]\n",
    "\n",
    "    directions = [\n",
    "        html.unescape(step[\"html_instructions\"])\n",
    "        for step in steps\n",
    "    ]\n",
    "    \n",
    "    return {\n",
    "        \"summary\": route[\"summary\"],\n",
    "        \"distance\": leg[\"distance\"][\"text\"],\n",
    "        \"duration\": leg[\"duration\"][\"text\"],\n",
    "        \"steps\": directions\n",
    "    }\n",
    "\n",
    "print(get_directions(\"Concordia university loyola campus\", \"concordia university sgw campus\"))"
   ]
  },
  {
   "cell_type": "code",
   "execution_count": 2,
   "id": "ef5b546f",
   "metadata": {},
   "outputs": [
    {
     "name": "stdout",
     "output_type": "stream",
     "text": [
      "Please visit this URL to authorize this application: https://accounts.google.com/o/oauth2/auth?response_type=code&client_id=696541888682-oal42mh7gjj8rpcaj2e8ah35rtgrtu9j.apps.googleusercontent.com&redirect_uri=http%3A%2F%2Flocalhost%3A58775%2F&scope=https%3A%2F%2Fwww.googleapis.com%2Fauth%2Fgmail.send&state=hZFhYUf9qzizHVYlMQQCmhFwT6UIXE&access_type=offline\n"
     ]
    }
   ],
   "source": [
    "from google_auth_oauthlib.flow import InstalledAppFlow\n",
    "\n",
    "SCOPES = ['https://www.googleapis.com/auth/gmail.send']\n",
    "\n",
    "flow = InstalledAppFlow.from_client_secrets_file('credentials.json', SCOPES)\n",
    "creds = flow.run_local_server(port=0)\n",
    "\n",
    "with open(\"lambda_gmail_creds.json\", \"w\") as f:\n",
    "    f.write(creds.to_json())"
   ]
  },
  {
   "cell_type": "code",
   "execution_count": 17,
   "id": "71fb15ca",
   "metadata": {},
   "outputs": [],
   "source": [
    "gmail_object = {\n",
    " \"to\": \"jith013@gmail.com\",\n",
    " \"subject\": \"Test Email\",\n",
    " \"message\": \"This is a test email sent from IBM watson AI Agent\"\n",
    "}"
   ]
  },
  {
   "cell_type": "code",
   "execution_count": null,
   "id": "9664d91d",
   "metadata": {},
   "outputs": [
    {
     "name": "stderr",
     "output_type": "stream",
     "text": [
      "C:\\Users\\Dell\\AppData\\Local\\Temp\\ipykernel_16300\\138754412.py:5: UserWarning: You appear to be connected to a DocumentDB cluster. For more information regarding feature compatibility and support please visit https://www.mongodb.com/supportability/documentdb\n",
      "  client = MongoClient(mongo_uri)\n"
     ]
    }
   ],
   "source": [
    "from pymongo import MongoClient\n",
    "\n",
    "mongo_uri = (\"\")\n",
    "\n",
    "client = MongoClient(mongo_uri)"
   ]
  },
  {
   "cell_type": "code",
   "execution_count": 6,
   "id": "42c353cf",
   "metadata": {},
   "outputs": [],
   "source": [
    "db = client[\"IBM_Hackathon_DB\"]\n",
    "collection = db[\"agent_memory\"]"
   ]
  },
  {
   "cell_type": "code",
   "execution_count": null,
   "id": "7ac7fbf6",
   "metadata": {},
   "outputs": [],
   "source": [
    "collection.insert_one({\"creators\": [\"Sujith Manikandan\", \"santhosh dayakar\"]})"
   ]
  },
  {
   "cell_type": "code",
   "execution_count": null,
   "id": "07180531",
   "metadata": {},
   "outputs": [
    {
     "name": "stdout",
     "output_type": "stream",
     "text": [
      "{\"error\": \"'to'\"}\n"
     ]
    }
   ],
   "source": [
    "def send_gmail(to,subject,message):\n",
    "  url = \"\"\n",
    "\n",
    "  payload = {\n",
    "    \"to\": to,\n",
    "    \"subject\":subject,\n",
    "    \"message\": message}\n",
    "\n",
    "  headers = {\n",
    "    \"Content-Type\": \"application/json\"}\n",
    "\n",
    "  response = requests.post(url, data=json.dumps(payload), headers=headers)\n",
    "  print(response.text)\n",
    "\n",
    "send_gmail(gmail_object[\"to\"], gmail_object[\"subject\"], gmail_object[\"message\"])"
   ]
  }
 ],
 "metadata": {
  "kernelspec": {
   "display_name": "Python 3",
   "language": "python",
   "name": "python3"
  },
  "language_info": {
   "codemirror_mode": {
    "name": "ipython",
    "version": 3
   },
   "file_extension": ".py",
   "mimetype": "text/x-python",
   "name": "python",
   "nbconvert_exporter": "python",
   "pygments_lexer": "ipython3",
   "version": "3.12.6"
  }
 },
 "nbformat": 4,
 "nbformat_minor": 5
}
